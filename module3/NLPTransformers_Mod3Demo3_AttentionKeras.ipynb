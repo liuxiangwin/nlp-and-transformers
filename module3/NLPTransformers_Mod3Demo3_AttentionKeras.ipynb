{
 "cells": [
  {
   "cell_type": "markdown",
   "metadata": {
    "colab_type": "text",
    "id": "view-in-github"
   },
   "source": [
    "<a href=\"https://colab.research.google.com/github/axel-sirota/nlp-and-transformers/blob/main/module3/NLPTransformers_Mod3Demo3_AttentionKeras.ipynb\" target=\"_parent\"><img src=\"https://colab.research.google.com/assets/colab-badge.svg\" alt=\"Open In Colab\"/></a>"
   ]
  },
  {
   "cell_type": "markdown",
   "metadata": {
    "id": "r45tbR6lkYEa"
   },
   "source": [
    "# Attention with Keras\n",
    "\n",
    "© Data Trainers LLC. GPL v 3.0.\n",
    "\n",
    "Author: Axel Sirota"
   ]
  },
  {
   "cell_type": "markdown",
   "metadata": {
    "id": "hcU-PBR3kbaL"
   },
   "source": [
    "A whole new world opportunities appear when considering using the layer implementations of the attention components. As of July 2023 we have 3 layers implemented:\n",
    "\n",
    "- AdditiveAttention: This is the original Attention from the Bahdanau paper that incorporates the concept of Q,K,V attention we say in demo 2; setting, in this case, K=V.\n",
    "- Attention: This is the Dot Product attention from *Luong et. al.* we saw in the first demo.\n",
    "- MultiHeadAttention: The general attention everyone uses and we will learn in this demo! It is basically many layers of self attention.\n",
    "\n",
    "Let's get to it!\n"
   ]
  },
  {
   "cell_type": "markdown",
   "metadata": {
    "id": "JsTW2QHimUlx"
   },
   "source": [
    "## Prep"
   ]
  },
  {
   "cell_type": "code",
   "execution_count": 3,
   "metadata": {
    "id": "C9BTEOu0PerV"
   },
   "outputs": [
    {
     "name": "stdout",
     "output_type": "stream",
     "text": [
      "Requirement already satisfied: nltk in /opt/app-root/lib/python3.9/site-packages (3.8.1)\n",
      "Requirement already satisfied: gensim==4.2.0 in /opt/app-root/lib/python3.9/site-packages (4.2.0)\n",
      "Requirement already satisfied: keras-nlp in /opt/app-root/lib/python3.9/site-packages (0.8.2)\n",
      "Requirement already satisfied: keras-preprocessing in /opt/app-root/lib/python3.9/site-packages (1.1.2)\n",
      "Requirement already satisfied: tensorflow-text>=2.11 in /opt/app-root/lib/python3.9/site-packages (2.16.1)\n",
      "Requirement already satisfied: numpy>=1.17.0 in /opt/app-root/lib/python3.9/site-packages (from gensim==4.2.0) (1.24.4)\n",
      "Requirement already satisfied: scipy>=0.18.1 in /opt/app-root/lib/python3.9/site-packages (from gensim==4.2.0) (1.11.4)\n",
      "Requirement already satisfied: smart-open>=1.8.1 in /opt/app-root/lib/python3.9/site-packages (from gensim==4.2.0) (6.4.0)\n",
      "Requirement already satisfied: tqdm in /opt/app-root/lib/python3.9/site-packages (from nltk) (4.66.1)\n",
      "Requirement already satisfied: regex>=2021.8.3 in /opt/app-root/lib/python3.9/site-packages (from nltk) (2023.12.25)\n",
      "Requirement already satisfied: joblib in /opt/app-root/lib/python3.9/site-packages (from nltk) (1.3.2)\n",
      "Requirement already satisfied: click in /opt/app-root/lib/python3.9/site-packages (from nltk) (8.1.7)\n",
      "Requirement already satisfied: rich in /opt/app-root/lib/python3.9/site-packages (from keras-nlp) (12.6.0)\n",
      "Requirement already satisfied: dm-tree in /opt/app-root/lib/python3.9/site-packages (from keras-nlp) (0.1.8)\n",
      "Requirement already satisfied: keras-core in /opt/app-root/lib/python3.9/site-packages (from keras-nlp) (0.1.7)\n",
      "Requirement already satisfied: kagglehub in /opt/app-root/lib/python3.9/site-packages (from keras-nlp) (0.2.0)\n",
      "Requirement already satisfied: absl-py in /opt/app-root/lib/python3.9/site-packages (from keras-nlp) (1.4.0)\n",
      "Requirement already satisfied: packaging in /opt/app-root/lib/python3.9/site-packages (from keras-nlp) (23.2)\n",
      "Requirement already satisfied: six>=1.9.0 in /opt/app-root/lib/python3.9/site-packages (from keras-preprocessing) (1.16.0)\n",
      "Requirement already satisfied: tensorflow<2.17,>=2.16.1 in /opt/app-root/lib/python3.9/site-packages (from tensorflow-text>=2.11) (2.16.1)\n",
      "Requirement already satisfied: gast!=0.5.0,!=0.5.1,!=0.5.2,>=0.2.1 in /opt/app-root/lib/python3.9/site-packages (from tensorflow<2.17,>=2.16.1->tensorflow-text>=2.11) (0.5.4)\n",
      "Requirement already satisfied: opt-einsum>=2.3.2 in /opt/app-root/lib/python3.9/site-packages (from tensorflow<2.17,>=2.16.1->tensorflow-text>=2.11) (3.3.0)\n",
      "Requirement already satisfied: setuptools in /opt/app-root/lib/python3.9/site-packages (from tensorflow<2.17,>=2.16.1->tensorflow-text>=2.11) (68.1.2)\n",
      "Requirement already satisfied: h5py>=3.10.0 in /opt/app-root/lib/python3.9/site-packages (from tensorflow<2.17,>=2.16.1->tensorflow-text>=2.11) (3.10.0)\n",
      "Requirement already satisfied: termcolor>=1.1.0 in /opt/app-root/lib/python3.9/site-packages (from tensorflow<2.17,>=2.16.1->tensorflow-text>=2.11) (2.4.0)\n",
      "Requirement already satisfied: libclang>=13.0.0 in /opt/app-root/lib/python3.9/site-packages (from tensorflow<2.17,>=2.16.1->tensorflow-text>=2.11) (16.0.6)\n",
      "Requirement already satisfied: ml-dtypes~=0.3.1 in /opt/app-root/lib/python3.9/site-packages (from tensorflow<2.17,>=2.16.1->tensorflow-text>=2.11) (0.3.2)\n",
      "Requirement already satisfied: wrapt>=1.11.0 in /opt/app-root/lib/python3.9/site-packages (from tensorflow<2.17,>=2.16.1->tensorflow-text>=2.11) (1.16.0)\n",
      "Requirement already satisfied: requests<3,>=2.21.0 in /opt/app-root/lib/python3.9/site-packages (from tensorflow<2.17,>=2.16.1->tensorflow-text>=2.11) (2.31.0)\n",
      "Requirement already satisfied: grpcio<2.0,>=1.24.3 in /opt/app-root/lib/python3.9/site-packages (from tensorflow<2.17,>=2.16.1->tensorflow-text>=2.11) (1.60.1)\n",
      "Requirement already satisfied: flatbuffers>=23.5.26 in /opt/app-root/lib/python3.9/site-packages (from tensorflow<2.17,>=2.16.1->tensorflow-text>=2.11) (24.3.7)\n",
      "Requirement already satisfied: protobuf!=4.21.0,!=4.21.1,!=4.21.2,!=4.21.3,!=4.21.4,!=4.21.5,<5.0.0dev,>=3.20.3 in /opt/app-root/lib/python3.9/site-packages (from tensorflow<2.17,>=2.16.1->tensorflow-text>=2.11) (4.25.3)\n",
      "Requirement already satisfied: tensorboard<2.17,>=2.16 in /opt/app-root/lib/python3.9/site-packages (from tensorflow<2.17,>=2.16.1->tensorflow-text>=2.11) (2.16.2)\n",
      "Requirement already satisfied: keras>=3.0.0 in /opt/app-root/lib/python3.9/site-packages (from tensorflow<2.17,>=2.16.1->tensorflow-text>=2.11) (3.0.5)\n",
      "Requirement already satisfied: typing-extensions>=3.6.6 in /opt/app-root/lib/python3.9/site-packages (from tensorflow<2.17,>=2.16.1->tensorflow-text>=2.11) (4.9.0)\n",
      "Requirement already satisfied: astunparse>=1.6.0 in /opt/app-root/lib/python3.9/site-packages (from tensorflow<2.17,>=2.16.1->tensorflow-text>=2.11) (1.6.3)\n",
      "Requirement already satisfied: tensorflow-io-gcs-filesystem>=0.23.1 in /opt/app-root/lib/python3.9/site-packages (from tensorflow<2.17,>=2.16.1->tensorflow-text>=2.11) (0.36.0)\n",
      "Requirement already satisfied: google-pasta>=0.1.1 in /opt/app-root/lib/python3.9/site-packages (from tensorflow<2.17,>=2.16.1->tensorflow-text>=2.11) (0.2.0)\n",
      "Requirement already satisfied: namex in /opt/app-root/lib/python3.9/site-packages (from keras-core->keras-nlp) (0.0.7)\n",
      "Requirement already satisfied: pygments<3.0.0,>=2.6.0 in /opt/app-root/lib/python3.9/site-packages (from rich->keras-nlp) (2.17.2)\n",
      "Requirement already satisfied: commonmark<0.10.0,>=0.9.0 in /opt/app-root/lib/python3.9/site-packages (from rich->keras-nlp) (0.9.1)\n",
      "Requirement already satisfied: wheel<1.0,>=0.23.0 in /opt/app-root/lib/python3.9/site-packages (from astunparse>=1.6.0->tensorflow<2.17,>=2.16.1->tensorflow-text>=2.11) (0.41.3)\n",
      "Requirement already satisfied: certifi>=2017.4.17 in /opt/app-root/lib/python3.9/site-packages (from requests<3,>=2.21.0->tensorflow<2.17,>=2.16.1->tensorflow-text>=2.11) (2024.2.2)\n",
      "Requirement already satisfied: charset-normalizer<4,>=2 in /opt/app-root/lib/python3.9/site-packages (from requests<3,>=2.21.0->tensorflow<2.17,>=2.16.1->tensorflow-text>=2.11) (3.3.2)\n",
      "Requirement already satisfied: idna<4,>=2.5 in /opt/app-root/lib/python3.9/site-packages (from requests<3,>=2.21.0->tensorflow<2.17,>=2.16.1->tensorflow-text>=2.11) (3.6)\n",
      "Requirement already satisfied: urllib3<3,>=1.21.1 in /opt/app-root/lib/python3.9/site-packages (from requests<3,>=2.21.0->tensorflow<2.17,>=2.16.1->tensorflow-text>=2.11) (1.26.18)\n",
      "Requirement already satisfied: markdown>=2.6.8 in /opt/app-root/lib/python3.9/site-packages (from tensorboard<2.17,>=2.16->tensorflow<2.17,>=2.16.1->tensorflow-text>=2.11) (3.5.2)\n",
      "Requirement already satisfied: werkzeug>=1.0.1 in /opt/app-root/lib/python3.9/site-packages (from tensorboard<2.17,>=2.16->tensorflow<2.17,>=2.16.1->tensorflow-text>=2.11) (3.0.1)\n",
      "Requirement already satisfied: tensorboard-data-server<0.8.0,>=0.7.0 in /opt/app-root/lib/python3.9/site-packages (from tensorboard<2.17,>=2.16->tensorflow<2.17,>=2.16.1->tensorflow-text>=2.11) (0.7.2)\n",
      "Requirement already satisfied: importlib-metadata>=4.4 in /opt/app-root/lib/python3.9/site-packages (from markdown>=2.6.8->tensorboard<2.17,>=2.16->tensorflow<2.17,>=2.16.1->tensorflow-text>=2.11) (7.0.1)\n",
      "Requirement already satisfied: MarkupSafe>=2.1.1 in /opt/app-root/lib/python3.9/site-packages (from werkzeug>=1.0.1->tensorboard<2.17,>=2.16->tensorflow<2.17,>=2.16.1->tensorflow-text>=2.11) (2.1.5)\n",
      "Requirement already satisfied: zipp>=0.5 in /opt/app-root/lib/python3.9/site-packages (from importlib-metadata>=4.4->markdown>=2.6.8->tensorboard<2.17,>=2.16->tensorflow<2.17,>=2.16.1->tensorflow-text>=2.11) (3.17.0)\n",
      "\n",
      "\u001b[1m[\u001b[0m\u001b[34;49mnotice\u001b[0m\u001b[1;39;49m]\u001b[0m\u001b[39;49m A new release of pip available: \u001b[0m\u001b[31;49m22.2.2\u001b[0m\u001b[39;49m -> \u001b[0m\u001b[32;49m24.0\u001b[0m\n",
      "\u001b[1m[\u001b[0m\u001b[34;49mnotice\u001b[0m\u001b[1;39;49m]\u001b[0m\u001b[39;49m To update, run: \u001b[0m\u001b[32;49mpip install --upgrade pip\u001b[0m\n",
      "Requirement already satisfied: textblob in /opt/app-root/lib/python3.9/site-packages (0.18.0.post0)\n",
      "Requirement already satisfied: nltk>=3.8 in /opt/app-root/lib/python3.9/site-packages (from textblob) (3.8.1)\n",
      "Requirement already satisfied: joblib in /opt/app-root/lib/python3.9/site-packages (from nltk>=3.8->textblob) (1.3.2)\n",
      "Requirement already satisfied: regex>=2021.8.3 in /opt/app-root/lib/python3.9/site-packages (from nltk>=3.8->textblob) (2023.12.25)\n",
      "Requirement already satisfied: tqdm in /opt/app-root/lib/python3.9/site-packages (from nltk>=3.8->textblob) (4.66.1)\n",
      "Requirement already satisfied: click in /opt/app-root/lib/python3.9/site-packages (from nltk>=3.8->textblob) (8.1.7)\n",
      "\n",
      "\u001b[1m[\u001b[0m\u001b[34;49mnotice\u001b[0m\u001b[1;39;49m]\u001b[0m\u001b[39;49m A new release of pip available: \u001b[0m\u001b[31;49m22.2.2\u001b[0m\u001b[39;49m -> \u001b[0m\u001b[32;49m24.0\u001b[0m\n",
      "\u001b[1m[\u001b[0m\u001b[34;49mnotice\u001b[0m\u001b[1;39;49m]\u001b[0m\u001b[39;49m To update, run: \u001b[0m\u001b[32;49mpip install --upgrade pip\u001b[0m\n"
     ]
    }
   ],
   "source": [
    "!pip install -U nltk 'gensim==4.2.0' 'keras-nlp' 'keras-preprocessing' 'tensorflow-text>=2.11'\n",
    "!pip install textblob"
   ]
  },
  {
   "cell_type": "markdown",
   "metadata": {
    "id": "9H2IYs8QkXZd"
   },
   "source": [
    "Let's run some helper functions to setup using the GPUs"
   ]
  },
  {
   "cell_type": "code",
   "execution_count": 4,
   "metadata": {
    "id": "0fpgYwAtNO2T"
   },
   "outputs": [
    {
     "name": "stderr",
     "output_type": "stream",
     "text": [
      "[nltk_data] Downloading package punkt to /opt/app-\n",
      "[nltk_data]     root/src/nltk_data...\n",
      "[nltk_data]   Package punkt is already up-to-date!\n"
     ]
    },
    {
     "data": {
      "text/plain": [
       "True"
      ]
     },
     "execution_count": 4,
     "metadata": {},
     "output_type": "execute_result"
    }
   ],
   "source": [
    "import multiprocessing\n",
    "import tensorflow as tf\n",
    "import sys\n",
    "import keras.backend as K\n",
    "from keras.models import Sequential\n",
    "from keras.layers import Dense, Embedding, Lambda, ELU, Conv1D, MaxPooling1D, Dropout\n",
    "from keras.preprocessing import sequence\n",
    "# from keras.preprocessing.text import Tokenizer\n",
    "from sklearn.model_selection import train_test_split\n",
    "from keras import preprocessing\n",
    "from textblob import TextBlob, Word\n",
    "from keras_preprocessing.sequence import pad_sequences\n",
    "from keras.initializers import Constant\n",
    "\n",
    "# from tensorflow.keras.layers.experimental import preprocessing\n",
    "\n",
    "from tensorflow.keras import Model, Input\n",
    "import numpy as np\n",
    "import re\n",
    "import random\n",
    "import os\n",
    "import pandas as pd\n",
    "import gensim\n",
    "import warnings\n",
    "import nltk\n",
    "import time\n",
    "\n",
    "TRACE = False\n",
    "\n",
    "def set_seeds_and_trace():\n",
    "  os.environ['PYTHONHASHSEED'] = '0'\n",
    "  np.random.seed(42)\n",
    "  tf.random.set_seed(42)\n",
    "  random.seed(42)\n",
    "  if TRACE:\n",
    "    tf.debugging.set_log_device_placement(True)\n",
    "\n",
    "def set_session_with_gpus_and_cores():\n",
    "  cores = multiprocessing.cpu_count()\n",
    "  gpus = len(tf.config.list_physical_devices('GPU'))\n",
    "  config = tf.compat.v1.ConfigProto( device_count = {'GPU': gpus  , 'CPU': cores} , intra_op_parallelism_threads=1, inter_op_parallelism_threads=1)\n",
    "  sess = tf.compat.v1.Session(config=config)\n",
    "  tf.compat.v1.keras.backend.set_session(sess)\n",
    "\n",
    "# set_seeds_and_trace()\n",
    "# set_session_with_gpus_and_cores()\n",
    "warnings.filterwarnings('ignore')\n",
    "nltk.download('punkt')"
   ]
  },
  {
   "cell_type": "markdown",
   "metadata": {
    "id": "uvVC_dlqmdf6"
   },
   "source": [
    "## Attention *a la Bahdanau*"
   ]
  },
  {
   "cell_type": "markdown",
   "metadata": {
    "id": "ibxTc61LmmhK"
   },
   "source": [
    "The easiest way to test a Layer in Keras is to create a simple model that uses such a layer, we will do just that! This also shows how easy is to add attention to your models, which we will use extensively when creating THE Transformer from scratch"
   ]
  },
  {
   "cell_type": "markdown",
   "metadata": {
    "id": "oLbdmNwEoUM7"
   },
   "source": [
    "Notice we need a custom model class because the inputs needs to be the query and value, and they could have different embeddings as well."
   ]
  },
  {
   "cell_type": "code",
   "execution_count": 5,
   "metadata": {
    "id": "36P0ESmxThvQ"
   },
   "outputs": [],
   "source": [
    "class AttentionModel(tf.keras.Model):\n",
    "\n",
    "  def __init__(self, vocab_size, max_tokens, embedding_dim, dropout_rate):\n",
    "    super().__init__()\n",
    "    self.embedding = tf.keras.layers.Embedding(input_dim=vocab_size, output_dim=embedding_dim, input_length=max_tokens)\n",
    "    self.attention = tf.keras.layers.AdditiveAttention()\n",
    "    self.dropout = tf.keras.layers.Dropout(dropout_rate)\n",
    "    self.dense = tf.keras.layers.Dense(vocab_size, activation='softmax')\n",
    "\n",
    "  def call(self, inputs, training=False):\n",
    "\n",
    "    query, value = inputs\n",
    "    # Query embeddings of shape [batch_size, Tq, dimension].\n",
    "    query_embeddings = self.embedding(query)\n",
    "    # Value embeddings of shape [batch_size, Tv, dimension].\n",
    "    value_embeddings = self.embedding(value)\n",
    "    # Notice we could have an embedding for the inputs and another embedding for outputs, we will see more of that later\n",
    "    x = self.attention([query_embeddings, value_embeddings])\n",
    "    x = self.dropout(x, training=training)\n",
    "    x = self.dense(x, training=training)\n",
    "    return x\n",
    "\n",
    "  def build_graph(self, max_tokens, embedding_dim):\n",
    "    query_input = tf.keras.Input(shape=(None, max_tokens, embedding_dim), dtype='int32')\n",
    "    value_input = tf.keras.Input(shape=(None, max_tokens, embedding_dim), dtype='int32')\n",
    "    x = (query_input, value_input)\n",
    "    return Model(inputs=x, outputs=self.call(x))"
   ]
  },
  {
   "cell_type": "code",
   "execution_count": 6,
   "metadata": {
    "id": "WpLSon3cNVvc"
   },
   "outputs": [
    {
     "ename": "ValueError",
     "evalue": "Unrecognized keyword arguments passed to Embedding: {'input_length': 10}",
     "output_type": "error",
     "traceback": [
      "\u001b[0;31m---------------------------------------------------------------------------\u001b[0m",
      "\u001b[0;31mValueError\u001b[0m                                Traceback (most recent call last)",
      "Cell \u001b[0;32mIn[6], line 1\u001b[0m\n\u001b[0;32m----> 1\u001b[0m model \u001b[38;5;241m=\u001b[39m \u001b[43mAttentionModel\u001b[49m\u001b[43m(\u001b[49m\u001b[38;5;241;43m100\u001b[39;49m\u001b[43m,\u001b[49m\u001b[43m \u001b[49m\u001b[38;5;241;43m10\u001b[39;49m\u001b[43m,\u001b[49m\u001b[43m \u001b[49m\u001b[38;5;241;43m20\u001b[39;49m\u001b[43m,\u001b[49m\u001b[43m \u001b[49m\u001b[38;5;241;43m0\u001b[39;49m\u001b[43m)\u001b[49m\n",
      "Cell \u001b[0;32mIn[5], line 5\u001b[0m, in \u001b[0;36mAttentionModel.__init__\u001b[0;34m(self, vocab_size, max_tokens, embedding_dim, dropout_rate)\u001b[0m\n\u001b[1;32m      3\u001b[0m \u001b[38;5;28;01mdef\u001b[39;00m \u001b[38;5;21m__init__\u001b[39m(\u001b[38;5;28mself\u001b[39m, vocab_size, max_tokens, embedding_dim, dropout_rate):\n\u001b[1;32m      4\u001b[0m   \u001b[38;5;28msuper\u001b[39m()\u001b[38;5;241m.\u001b[39m\u001b[38;5;21m__init__\u001b[39m()\n\u001b[0;32m----> 5\u001b[0m   \u001b[38;5;28mself\u001b[39m\u001b[38;5;241m.\u001b[39membedding \u001b[38;5;241m=\u001b[39m \u001b[43mtf\u001b[49m\u001b[38;5;241;43m.\u001b[39;49m\u001b[43mkeras\u001b[49m\u001b[38;5;241;43m.\u001b[39;49m\u001b[43mlayers\u001b[49m\u001b[38;5;241;43m.\u001b[39;49m\u001b[43mEmbedding\u001b[49m\u001b[43m(\u001b[49m\u001b[43minput_dim\u001b[49m\u001b[38;5;241;43m=\u001b[39;49m\u001b[43mvocab_size\u001b[49m\u001b[43m,\u001b[49m\u001b[43m \u001b[49m\u001b[43moutput_dim\u001b[49m\u001b[38;5;241;43m=\u001b[39;49m\u001b[43membedding_dim\u001b[49m\u001b[43m,\u001b[49m\u001b[43m \u001b[49m\u001b[43minput_length\u001b[49m\u001b[38;5;241;43m=\u001b[39;49m\u001b[43mmax_tokens\u001b[49m\u001b[43m)\u001b[49m\n\u001b[1;32m      6\u001b[0m   \u001b[38;5;28mself\u001b[39m\u001b[38;5;241m.\u001b[39mattention \u001b[38;5;241m=\u001b[39m tf\u001b[38;5;241m.\u001b[39mkeras\u001b[38;5;241m.\u001b[39mlayers\u001b[38;5;241m.\u001b[39mAdditiveAttention()\n\u001b[1;32m      7\u001b[0m   \u001b[38;5;28mself\u001b[39m\u001b[38;5;241m.\u001b[39mdropout \u001b[38;5;241m=\u001b[39m tf\u001b[38;5;241m.\u001b[39mkeras\u001b[38;5;241m.\u001b[39mlayers\u001b[38;5;241m.\u001b[39mDropout(dropout_rate)\n",
      "File \u001b[0;32m/opt/app-root/lib64/python3.9/site-packages/keras/src/layers/core/embedding.py:81\u001b[0m, in \u001b[0;36mEmbedding.__init__\u001b[0;34m(self, input_dim, output_dim, embeddings_initializer, embeddings_regularizer, embeddings_constraint, mask_zero, lora_rank, **kwargs)\u001b[0m\n\u001b[1;32m     70\u001b[0m \u001b[38;5;28;01mdef\u001b[39;00m \u001b[38;5;21m__init__\u001b[39m(\n\u001b[1;32m     71\u001b[0m     \u001b[38;5;28mself\u001b[39m,\n\u001b[1;32m     72\u001b[0m     input_dim,\n\u001b[0;32m   (...)\u001b[0m\n\u001b[1;32m     79\u001b[0m     \u001b[38;5;241m*\u001b[39m\u001b[38;5;241m*\u001b[39mkwargs,\n\u001b[1;32m     80\u001b[0m ):\n\u001b[0;32m---> 81\u001b[0m     \u001b[38;5;28;43msuper\u001b[39;49m\u001b[43m(\u001b[49m\u001b[43m)\u001b[49m\u001b[38;5;241;43m.\u001b[39;49m\u001b[38;5;21;43m__init__\u001b[39;49m\u001b[43m(\u001b[49m\u001b[38;5;241;43m*\u001b[39;49m\u001b[38;5;241;43m*\u001b[39;49m\u001b[43mkwargs\u001b[49m\u001b[43m)\u001b[49m\n\u001b[1;32m     82\u001b[0m     \u001b[38;5;28mself\u001b[39m\u001b[38;5;241m.\u001b[39minput_dim \u001b[38;5;241m=\u001b[39m input_dim\n\u001b[1;32m     83\u001b[0m     \u001b[38;5;28mself\u001b[39m\u001b[38;5;241m.\u001b[39moutput_dim \u001b[38;5;241m=\u001b[39m output_dim\n",
      "File \u001b[0;32m/opt/app-root/lib64/python3.9/site-packages/keras/src/layers/layer.py:265\u001b[0m, in \u001b[0;36mLayer.__init__\u001b[0;34m(self, activity_regularizer, trainable, dtype, autocast, name, **kwargs)\u001b[0m\n\u001b[1;32m    263\u001b[0m     \u001b[38;5;28mself\u001b[39m\u001b[38;5;241m.\u001b[39m_input_shape_arg \u001b[38;5;241m=\u001b[39m input_shape_arg\n\u001b[1;32m    264\u001b[0m \u001b[38;5;28;01mif\u001b[39;00m kwargs:\n\u001b[0;32m--> 265\u001b[0m     \u001b[38;5;28;01mraise\u001b[39;00m \u001b[38;5;167;01mValueError\u001b[39;00m(\n\u001b[1;32m    266\u001b[0m         \u001b[38;5;124m\"\u001b[39m\u001b[38;5;124mUnrecognized keyword arguments \u001b[39m\u001b[38;5;124m\"\u001b[39m\n\u001b[1;32m    267\u001b[0m         \u001b[38;5;124mf\u001b[39m\u001b[38;5;124m\"\u001b[39m\u001b[38;5;124mpassed to \u001b[39m\u001b[38;5;132;01m{\u001b[39;00m\u001b[38;5;28mself\u001b[39m\u001b[38;5;241m.\u001b[39m\u001b[38;5;18m__class__\u001b[39m\u001b[38;5;241m.\u001b[39m\u001b[38;5;18m__name__\u001b[39m\u001b[38;5;132;01m}\u001b[39;00m\u001b[38;5;124m: \u001b[39m\u001b[38;5;132;01m{\u001b[39;00mkwargs\u001b[38;5;132;01m}\u001b[39;00m\u001b[38;5;124m\"\u001b[39m\n\u001b[1;32m    268\u001b[0m     )\n\u001b[1;32m    270\u001b[0m \u001b[38;5;28mself\u001b[39m\u001b[38;5;241m.\u001b[39mbuilt \u001b[38;5;241m=\u001b[39m \u001b[38;5;28;01mFalse\u001b[39;00m\n\u001b[1;32m    271\u001b[0m \u001b[38;5;28mself\u001b[39m\u001b[38;5;241m.\u001b[39mdtype_policy \u001b[38;5;241m=\u001b[39m dtype_policies\u001b[38;5;241m.\u001b[39mget(dtype)\n",
      "\u001b[0;31mValueError\u001b[0m: Unrecognized keyword arguments passed to Embedding: {'input_length': 10}"
     ]
    }
   ],
   "source": [
    "model = AttentionModel(100, 10, 20, 0)"
   ]
  },
  {
   "cell_type": "code",
   "execution_count": null,
   "metadata": {
    "id": "CSRhli0ZWFxf"
   },
   "outputs": [],
   "source": [
    "model.summary()"
   ]
  },
  {
   "cell_type": "markdown",
   "metadata": {
    "id": "eXOb_IEGqV2p"
   },
   "source": [
    "Oh no! We need to call the model, well that is simple let's simulate 3 sentences!"
   ]
  },
  {
   "cell_type": "code",
   "execution_count": null,
   "metadata": {
    "id": "Mtn3d4wwyEGU"
   },
   "outputs": [],
   "source": [
    "embedding_dim = 20\n",
    "max_tokens = 10\n",
    "query = tf.constant(np.random.randint(0, embedding_dim, size=(3,max_tokens)))\n",
    "value = tf.constant(np.random.randint(0, embedding_dim, size=(3,max_tokens)))\n",
    "\n",
    "response = model((query,value) )"
   ]
  },
  {
   "cell_type": "code",
   "execution_count": null,
   "metadata": {
    "id": "8ngnlesuSTyC"
   },
   "outputs": [],
   "source": [
    "response.shape"
   ]
  },
  {
   "cell_type": "code",
   "execution_count": null,
   "metadata": {
    "id": "bZCFervbyf7i"
   },
   "outputs": [],
   "source": [
    "model.summary()"
   ]
  },
  {
   "cell_type": "code",
   "execution_count": null,
   "metadata": {
    "id": "Gi07wCzxXNt7"
   },
   "outputs": [],
   "source": [
    "model.build_graph(max_tokens=max_tokens, embedding_dim=embedding_dim)"
   ]
  },
  {
   "cell_type": "code",
   "execution_count": null,
   "metadata": {
    "id": "X1PW8NYaXOTq"
   },
   "outputs": [],
   "source": [
    "model.summary()"
   ]
  },
  {
   "cell_type": "markdown",
   "metadata": {
    "id": "nWQHcNquqfVK"
   },
   "source": [
    "Notice that attention adds very few parameters, adds many knowledge to the following layers, and is paralellizable."
   ]
  },
  {
   "cell_type": "markdown",
   "metadata": {
    "id": "A5y1okQ9QJ48"
   },
   "source": [
    "## MultiHead Attention"
   ]
  },
  {
   "cell_type": "markdown",
   "metadata": {
    "id": "bakdsYuhqogu"
   },
   "source": [
    "Now you are ready to see Multi Head Attention. The idea is quite simple, as in CNNs we had many filters and each convolution checked many different aspects of an image, having many self attentions can check different aspects of our entity, globally. In image it is:\n",
    "\n",
    "<figure>\n",
    "<center>\n",
    "<img src='https://www.dropbox.com/s/wjfxpap06viclhv/mha.png?raw=1'  />\n",
    "<figcaption>Attention</figcaption></center>\n",
    "</figure>"
   ]
  },
  {
   "cell_type": "markdown",
   "metadata": {
    "id": "S4tqYQY3rPCJ"
   },
   "source": [
    "Each head performs Scaled attention as we did before with the weird formula, and then we concatenate!"
   ]
  },
  {
   "cell_type": "code",
   "execution_count": null,
   "metadata": {
    "id": "7TqMEi2gQNFZ"
   },
   "outputs": [],
   "source": [
    "class MultiHeadAttentionModel(tf.keras.Model):\n",
    "\n",
    "  def __init__(self, num_heads, vocab_size, attention_dim, max_tokens, embedding_dim, dropout_rate):\n",
    "    super().__init__()\n",
    "    self.embedding = tf.keras.layers.Embedding(input_dim=vocab_size, output_dim=embedding_dim, input_length=max_tokens)\n",
    "\n",
    "    # key_dim stands for size of each attention head for query and key, we can also pass value_key is K!=V\n",
    "    self.attention = tf.keras.layers.MultiHeadAttention(num_heads=num_heads, key_dim=attention_dim, dropout=dropout_rate)\n",
    "\n",
    "    self.dense = tf.keras.layers.Dense(100, activation='softmax')\n",
    "\n",
    "  def call(self, inputs, training=False):\n",
    "\n",
    "    query, value = inputs\n",
    "    # Query embeddings of shape [batch_size, Tq, dimension].\n",
    "    query_embeddings = self.embedding(query)\n",
    "    # Value embeddings of shape [batch_size, Tv, dimension].\n",
    "    value_embeddings = self.embedding(value)\n",
    "    x, weights = self.attention(query_embeddings, value_embeddings, return_attention_scores=True)  # We return the scores to do our plot!\n",
    "    x = self.dense(x, training=training)\n",
    "    return x, weights\n",
    "\n",
    "  def build_graph(self, max_tokens, embedding_dim):\n",
    "    query_input = tf.keras.Input(shape=(max_tokens, embedding_dim), dtype='int32')\n",
    "    value_input = tf.keras.Input(shape=(max_tokens, embedding_dim), dtype='int32')\n",
    "    x = (query_input, value_input)\n",
    "    return Model(inputs=x, outputs=self.call(x))"
   ]
  },
  {
   "cell_type": "code",
   "execution_count": null,
   "metadata": {
    "id": "HyWkokOtw6GW"
   },
   "outputs": [],
   "source": [
    "vocab_size=100\n",
    "model = MultiHeadAttentionModel(num_heads=3, vocab_size=vocab_size, attention_dim=2, max_tokens=max_tokens, embedding_dim=embedding_dim, dropout_rate=0)"
   ]
  },
  {
   "cell_type": "code",
   "execution_count": null,
   "metadata": {
    "id": "vXhcalSwxF9a"
   },
   "outputs": [],
   "source": [
    "model.build_graph(max_tokens=max_tokens, embedding_dim=embedding_dim)"
   ]
  },
  {
   "cell_type": "code",
   "execution_count": null,
   "metadata": {
    "id": "HW4raKPVxPNj"
   },
   "outputs": [],
   "source": [
    "query = tf.constant(np.random.randint(0,vocab_size, size=(3,max_tokens, 10)))\n",
    "value = tf.constant(np.random.randint(0,vocab_size, size=(3,max_tokens, 10)))\n",
    "\n",
    "response, weights = model((query,value) )"
   ]
  },
  {
   "cell_type": "code",
   "execution_count": null,
   "metadata": {
    "id": "HelBLsdnxbL7"
   },
   "outputs": [],
   "source": [
    "response.shape"
   ]
  },
  {
   "cell_type": "markdown",
   "metadata": {
    "id": "NrYWnu1RsQWS"
   },
   "source": [
    "**Can you guess each value in the response.shape where does it come from?**"
   ]
  },
  {
   "cell_type": "code",
   "execution_count": null,
   "metadata": {
    "id": "OG5X7dchyN4v"
   },
   "outputs": [],
   "source": [
    "weights.shape"
   ]
  },
  {
   "cell_type": "markdown",
   "metadata": {
    "id": "yVfmU78bsaIG"
   },
   "source": [
    "**And for the weights??**"
   ]
  },
  {
   "cell_type": "code",
   "execution_count": null,
   "metadata": {
    "id": "esLeIv1IyOtf"
   },
   "outputs": [],
   "source": [
    "model.summary()"
   ]
  },
  {
   "cell_type": "markdown",
   "metadata": {
    "id": "n-KQ5uhrsfmB"
   },
   "source": [
    "Again, notice Attention as complex as multi head attention did not add many params and adds a lot lexical intelligence."
   ]
  },
  {
   "cell_type": "code",
   "execution_count": null,
   "metadata": {
    "id": "uluP5iZYsn44"
   },
   "outputs": [],
   "source": []
  }
 ],
 "metadata": {
  "colab": {
   "authorship_tag": "ABX9TyPj5ESFtz13HLkVzxJhQqT0",
   "collapsed_sections": [
    "JsTW2QHimUlx"
   ],
   "include_colab_link": true,
   "provenance": []
  },
  "kernelspec": {
   "display_name": "Python 3.9",
   "language": "python",
   "name": "python3"
  },
  "language_info": {
   "codemirror_mode": {
    "name": "ipython",
    "version": 3
   },
   "file_extension": ".py",
   "mimetype": "text/x-python",
   "name": "python",
   "nbconvert_exporter": "python",
   "pygments_lexer": "ipython3",
   "version": "3.9.18"
  }
 },
 "nbformat": 4,
 "nbformat_minor": 4
}
